{
 "cells": [
  {
   "cell_type": "code",
   "execution_count": 1,
   "metadata": {},
   "outputs": [],
   "source": [
    "import pandas as pd\n",
    "import matplotlib.pyplot as mp\n",
    "from pylab import mpl  # 显示中文\n",
    "import sklearn.metrics as sm\n",
    "import sklearn.ensemble as se\n",
    "import numpy as np\n",
    "import sklearn.model_selection as ms"
   ]
  },
  {
   "cell_type": "code",
   "execution_count": 2,
   "metadata": {},
   "outputs": [
    {
     "name": "stdout",
     "output_type": "stream",
     "text": [
      "   age         job  marital  education default  balance housing loan  contact  \\\n",
      "0   59      admin.  married  secondary      no     2343     yes   no  unknown   \n",
      "1   56      admin.  married  secondary      no       45      no   no  unknown   \n",
      "2   41  technician  married  secondary      no     1270     yes   no  unknown   \n",
      "3   55    services  married  secondary      no     2476     yes   no  unknown   \n",
      "4   54      admin.  married   tertiary      no      184      no   no  unknown   \n",
      "\n",
      "   day month  duration  campaign  pdays  previous poutcome deposit  \n",
      "0    5   may      1042         1     -1         0  unknown     yes  \n",
      "1    5   may      1467         1     -1         0  unknown     yes  \n",
      "2    5   may      1389         1     -1         0  unknown     yes  \n",
      "3    5   may       579         1     -1         0  unknown     yes  \n",
      "4    5   may       673         2     -1         0  unknown     yes  \n"
     ]
    }
   ],
   "source": [
    "# 指定默认字体\n",
    "mpl.rcParams['font.sans-serif'] = ['FangSong']\n",
    "# 读取csv文件数据\n",
    "df = pd.read_csv('bank.csv', sep=',',  engine='python')\n",
    "print(df.head())"
   ]
  },
  {
   "cell_type": "code",
   "execution_count": 3,
   "metadata": {},
   "outputs": [
    {
     "name": "stdout",
     "output_type": "stream",
     "text": [
      "<class 'pandas.core.frame.DataFrame'>\n",
      "RangeIndex: 11162 entries, 0 to 11161\n",
      "Data columns (total 17 columns):\n",
      "age          11162 non-null int64\n",
      "job          11162 non-null object\n",
      "marital      11162 non-null object\n",
      "education    11162 non-null object\n",
      "default      11162 non-null object\n",
      "balance      11162 non-null int64\n",
      "housing      11162 non-null object\n",
      "loan         11162 non-null object\n",
      "contact      11162 non-null object\n",
      "day          11162 non-null int64\n",
      "month        11162 non-null object\n",
      "duration     11162 non-null int64\n",
      "campaign     11162 non-null int64\n",
      "pdays        11162 non-null int64\n",
      "previous     11162 non-null int64\n",
      "poutcome     11162 non-null object\n",
      "deposit      11162 non-null object\n",
      "dtypes: int64(7), object(10)\n",
      "memory usage: 1.4+ MB\n",
      "None\n"
     ]
    }
   ],
   "source": [
    "# 检查数据是否有缺失值\n",
    "print(df.info())"
   ]
  },
  {
   "cell_type": "code",
   "execution_count": 4,
   "metadata": {},
   "outputs": [
    {
     "name": "stdout",
     "output_type": "stream",
     "text": [
      "                age       balance           day      duration      campaign  \\\n",
      "count  11162.000000  11162.000000  11162.000000  11162.000000  11162.000000   \n",
      "mean      41.231948   1528.538524     15.658036    371.993818      2.508421   \n",
      "std       11.913369   3225.413326      8.420740    347.128386      2.722077   \n",
      "min       18.000000  -6847.000000      1.000000      2.000000      1.000000   \n",
      "25%       32.000000    122.000000      8.000000    138.000000      1.000000   \n",
      "50%       39.000000    550.000000     15.000000    255.000000      2.000000   \n",
      "75%       49.000000   1708.000000     22.000000    496.000000      3.000000   \n",
      "max       95.000000  81204.000000     31.000000   3881.000000     63.000000   \n",
      "\n",
      "              pdays      previous  \n",
      "count  11162.000000  11162.000000  \n",
      "mean      51.330407      0.832557  \n",
      "std      108.758282      2.292007  \n",
      "min       -1.000000      0.000000  \n",
      "25%       -1.000000      0.000000  \n",
      "50%       -1.000000      0.000000  \n",
      "75%       20.750000      1.000000  \n",
      "max      854.000000     58.000000  \n"
     ]
    }
   ],
   "source": [
    "# 查看数据整体情况\n",
    "print(df.describe())"
   ]
  },
  {
   "cell_type": "code",
   "execution_count": 5,
   "metadata": {},
   "outputs": [
    {
     "name": "stdout",
     "output_type": "stream",
     "text": [
      "no     5873\n",
      "yes    5289\n",
      "Name: deposit, dtype: int64\n",
      "<class 'pandas.core.series.Series'>\n"
     ]
    }
   ],
   "source": [
    "# 获得客户是否投资定期存款人数数据\n",
    "dep = df.deposit.value_counts()\n",
    "print(dep)\n",
    "print(type(dep))"
   ]
  },
  {
   "cell_type": "code",
   "execution_count": 6,
   "metadata": {},
   "outputs": [
    {
     "data": {
      "image/png": "[encoded data removed]",
      "text/plain": [
       "<Figure size 432x288 with 1 Axes>"
      ]
     },
     "metadata": {
      "needs_background": "light"
     },
     "output_type": "display_data"
    }
   ],
   "source": [
    "# 绘制deposit列的柱状图（条形图）\n",
    "dep.plot(kind='bar', rot=30)\n",
    "# 显示图像\n",
    "mp.show()"
   ]
  },
  {
   "cell_type": "code",
   "execution_count": 7,
   "metadata": {},
   "outputs": [
    {
     "name": "stdout",
     "output_type": "stream",
     "text": [
      "0        (50, 60]\n",
      "1        (50, 60]\n",
      "2        (40, 50]\n",
      "3        (50, 60]\n",
      "4        (50, 60]\n",
      "5        (40, 50]\n",
      "6        (50, 60]\n",
      "7        (50, 60]\n",
      "8        (30, 40]\n",
      "9        (20, 30]\n",
      "10       (30, 40]\n",
      "11       (20, 30]\n",
      "12       (20, 30]\n",
      "13       (40, 50]\n",
      "14       (30, 40]\n",
      "15       (30, 40]\n",
      "16       (30, 40]\n",
      "17       (40, 50]\n",
      "18       (40, 50]\n",
      "19       (40, 50]\n",
      "20       (20, 30]\n",
      "21       (40, 50]\n",
      "22       (40, 50]\n",
      "23       (40, 50]\n",
      "24       (30, 40]\n",
      "25       (30, 40]\n",
      "26       (30, 40]\n",
      "27       (40, 50]\n",
      "28       (30, 40]\n",
      "29       (20, 30]\n",
      "           ...   \n",
      "11132    (30, 40]\n",
      "11133    (30, 40]\n",
      "11134    (50, 60]\n",
      "11135    (30, 40]\n",
      "11136    (30, 40]\n",
      "11137    (40, 50]\n",
      "11138    (30, 40]\n",
      "11139    (20, 30]\n",
      "11140    (50, 60]\n",
      "11141    (30, 40]\n",
      "11142    (50, 60]\n",
      "11143    (30, 40]\n",
      "11144    (50, 60]\n",
      "11145    (50, 60]\n",
      "11146    (20, 30]\n",
      "11147    (40, 50]\n",
      "11148    (30, 40]\n",
      "11149    (40, 50]\n",
      "11150    (30, 40]\n",
      "11151    (30, 40]\n",
      "11152    (30, 40]\n",
      "11153    (40, 50]\n",
      "11154    (50, 60]\n",
      "11155    (30, 40]\n",
      "11156    (30, 40]\n",
      "11157    (30, 40]\n",
      "11158    (30, 40]\n",
      "11159    (30, 40]\n",
      "11160    (40, 50]\n",
      "11161    (30, 40]\n",
      "Name: age, Length: 11162, dtype: category\n",
      "Categories (6, interval[int64]): [(0, 20] < (20, 30] < (30, 40] < (40, 50] < (50, 60] < (60, 100]]\n",
      "   age         job  marital  education default  balance housing loan  contact  \\\n",
      "0   59      admin.  married  secondary      no     2343     yes   no  unknown   \n",
      "1   56      admin.  married  secondary      no       45      no   no  unknown   \n",
      "2   41  technician  married  secondary      no     1270     yes   no  unknown   \n",
      "3   55    services  married  secondary      no     2476     yes   no  unknown   \n",
      "4   54      admin.  married   tertiary      no      184      no   no  unknown   \n",
      "\n",
      "   day month  duration  campaign  pdays  previous poutcome deposit   cut_age  \n",
      "0    5   may      1042         1     -1         0  unknown     yes  (50, 60]  \n",
      "1    5   may      1467         1     -1         0  unknown     yes  (50, 60]  \n",
      "2    5   may      1389         1     -1         0  unknown     yes  (40, 50]  \n",
      "3    5   may       579         1     -1         0  unknown     yes  (50, 60]  \n",
      "4    5   may       673         2     -1         0  unknown     yes  (50, 60]  \n",
      "             投资   不投资\n",
      "(0, 20]      33     8\n",
      "(20, 30]   1112   854\n",
      "(30, 40]   1812  2376\n",
      "(40, 50]   1019  1477\n",
      "(50, 60]    811  1049\n",
      "(60, 100]   502   109\n",
      "<class 'pandas.core.frame.DataFrame'>\n",
      "<class 'matplotlib.axes._subplots.AxesSubplot'>\n",
      "[0 1 2 3 4 5]\n",
      "[   0.  500. 1000. 1500. 2000. 2500.]\n"
     ]
    },
    {
     "data": {
      "image/png": "[encoded data removed]",
      "text/plain": [
       "<Figure size 432x288 with 1 Axes>"
      ]
     },
     "metadata": {
      "needs_background": "light"
     },
     "output_type": "display_data"
    }
   ],
   "source": [
    "# 分析age对投资的影响\n",
    "# 将age列分段处理\n",
    "bins = [0, 20, 30, 40, 50, 60, 100]\n",
    "cut_age = pd.cut(df['age'], bins)\n",
    "print(cut_age)\n",
    "# 给数据增添cut_age这一列\n",
    "df['cut_age'] = cut_age\n",
    "print(df.head())\n",
    "# 获得以客户是否投资定期存款为依据的年龄分布情况的人数数据\n",
    "age_dep_y = df.cut_age[df.deposit == 'yes'].value_counts()\n",
    "age_dep_n = df.cut_age[df.deposit == 'no'].value_counts()\n",
    "age_dep = pd.DataFrame({'投资': age_dep_y, '不投资': age_dep_n})\n",
    "print(age_dep)\n",
    "print(type(age_dep))\n",
    "# 绘制根据是否投资的年龄分布情况的柱状图（条形图）\n",
    "bar = age_dep.plot(kind='bar', rot=30)\n",
    "print(type(bar))\n",
    "print(bar.get_xticks())\n",
    "print(bar.get_yticks())\n",
    "# 为柱状图添加顶部数值标签\n",
    "xx = [-0.15, 0.15, 0.85, 1.15, 1.85, 2.15, 2.85, 3.15, 3.85, 4.15, 4.85, 5.15]\n",
    "yy = [33, 8, 1112, 854, 1812, 2376, 1019, 1477, 811, 1049, 502, 109]\n",
    "for x, y in zip(xx, yy):\n",
    "    mp.text(x, y + 20, str(y), ha='center')\n",
    "# mp.show()"
   ]
  },
  {
   "cell_type": "code",
   "execution_count": 8,
   "metadata": {},
   "outputs": [
    {
     "name": "stdout",
     "output_type": "stream",
     "text": [
      "                 投资   不投资\n",
      "admin.          631   703\n",
      "blue-collar     708  1236\n",
      "entrepreneur    123   205\n",
      "housemaid       109   165\n",
      "management     1301  1265\n",
      "retired         516   262\n",
      "self-employed   187   218\n",
      "services        369   554\n",
      "student         269    91\n",
      "technician      840   983\n",
      "unemployed      202   155\n",
      "unknown          34    36\n",
      "<class 'pandas.core.frame.DataFrame'>\n"
     ]
    },
    {
     "data": {
      "text/plain": [
       "<matplotlib.axes._subplots.AxesSubplot at 0x22ee3449cc0>"
      ]
     },
     "execution_count": 8,
     "metadata": {},
     "output_type": "execute_result"
    },
    {
     "data": {
      "image/png": "[encoded data removed]",
      "text/plain": [
       "<Figure size 432x288 with 1 Axes>"
      ]
     },
     "metadata": {
      "needs_background": "light"
     },
     "output_type": "display_data"
    }
   ],
   "source": [
    "# 分析职位类别对投资的影响\n",
    "# 获得以客户是否投资定期存款为依据的年龄分布情况的人数数据\n",
    "job_dep_y = df.job[df.deposit == 'yes'].value_counts()\n",
    "job_dep_n = df.job[df.deposit == 'no'].value_counts()\n",
    "job_dep = pd.DataFrame({'投资': job_dep_y, '不投资': job_dep_n})\n",
    "print(job_dep)\n",
    "print(type(job_dep))\n",
    "# 绘制根据是否投资的年龄分布情况的柱状图（条形图）\n",
    "job_dep.plot(kind='bar', rot=30)\n",
    "# mp.show()"
   ]
  },
  {
   "cell_type": "code",
   "execution_count": 9,
   "metadata": {},
   "outputs": [
    {
     "name": "stdout",
     "output_type": "stream",
     "text": [
      "            投资   不投资\n",
      "married   2755  3596\n",
      "single    1912  1606\n",
      "divorced   622   671\n"
     ]
    },
    {
     "data": {
      "text/plain": [
       "<matplotlib.axes._subplots.AxesSubplot at 0x22ee3356400>"
      ]
     },
     "execution_count": 9,
     "metadata": {},
     "output_type": "execute_result"
    },
    {
     "data": {
      "image/png": "[encoded data removed]",
      "text/plain": [
       "<Figure size 432x288 with 1 Axes>"
      ]
     },
     "metadata": {
      "needs_background": "light"
     },
     "output_type": "display_data"
    }
   ],
   "source": [
    "# 分析结婚情况对投资的影响\n",
    "mar_dep_y = df.marital[df.deposit == 'yes'].value_counts()\n",
    "mar_dep_n = df.marital[df.deposit == 'no'].value_counts()\n",
    "mar_dep = pd.DataFrame({'投资': mar_dep_y, '不投资': mar_dep_n})\n",
    "print(mar_dep)\n",
    "mar_dep.plot(kind='bar', rot=30)\n",
    "# mp.show()"
   ]
  },
  {
   "cell_type": "code",
   "execution_count": 10,
   "metadata": {},
   "outputs": [
    {
     "name": "stdout",
     "output_type": "stream",
     "text": [
      "       投资   不投资\n",
      "no   5237  5757\n",
      "yes    52   116\n"
     ]
    },
    {
     "data": {
      "image/png": "[encoded data removed]",
      "text/plain": [
       "<Figure size 432x288 with 1 Axes>"
      ]
     },
     "metadata": {
      "needs_background": "light"
     },
     "output_type": "display_data"
    }
   ],
   "source": [
    "# 分析信用卡违约情况对投资的影响\n",
    "def_dep_y = df.default[df.deposit == 'yes'].value_counts()\n",
    "def_dep_n = df.default[df.deposit == 'no'].value_counts()\n",
    "def_dep = pd.DataFrame({'投资': def_dep_y, '不投资': def_dep_n})\n",
    "print(def_dep)\n",
    "def_dep.plot(kind='bar', rot=30)\n",
    "mp.show()"
   ]
  },
  {
   "cell_type": "code",
   "execution_count": 11,
   "metadata": {},
   "outputs": [
    {
     "name": "stdout",
     "output_type": "stream",
     "text": [
      "       投资   不投资\n",
      "no   3354  2527\n",
      "yes  1935  3346\n"
     ]
    },
    {
     "data": {
      "image/png": "[encoded data removed]",
      "text/plain": [
       "<Figure size 432x288 with 1 Axes>"
      ]
     },
     "metadata": {
      "needs_background": "light"
     },
     "output_type": "display_data"
    }
   ],
   "source": [
    "# 分析房贷情况对投资的影响\n",
    "def_dep_y = df.housing[df.deposit == 'yes'].value_counts()\n",
    "def_dep_n = df.housing[df.deposit == 'no'].value_counts()\n",
    "def_dep = pd.DataFrame({'投资': def_dep_y, '不投资': def_dep_n})\n",
    "print(def_dep)\n",
    "def_dep.plot(kind='bar', rot=30)\n",
    "mp.show()"
   ]
  },
  {
   "cell_type": "code",
   "execution_count": 12,
   "metadata": {},
   "outputs": [
    {
     "name": "stdout",
     "output_type": "stream",
     "text": [
      "0        (2000, 4000]\n",
      "1            (0, 500]\n",
      "2        (1000, 2000]\n",
      "3        (2000, 4000]\n",
      "4            (0, 500]\n",
      "5           (-500, 0]\n",
      "6         (500, 1000]\n",
      "7         (500, 1000]\n",
      "8            (0, 500]\n",
      "9        (4000, 8000]\n",
      "10           (0, 500]\n",
      "11           (0, 500]\n",
      "12           (0, 500]\n",
      "13           (0, 500]\n",
      "14        (500, 1000]\n",
      "15       (2000, 4000]\n",
      "16        (500, 1000]\n",
      "17          (-500, 0]\n",
      "18           (0, 500]\n",
      "19           (0, 500]\n",
      "20        (500, 1000]\n",
      "21       (2000, 4000]\n",
      "22           (0, 500]\n",
      "23          (-500, 0]\n",
      "24           (0, 500]\n",
      "25           (0, 500]\n",
      "26           (0, 500]\n",
      "27           (0, 500]\n",
      "28           (0, 500]\n",
      "29        (500, 1000]\n",
      "             ...     \n",
      "11132       (-500, 0]\n",
      "11133    (1000, 2000]\n",
      "11134    (2000, 4000]\n",
      "11135        (0, 500]\n",
      "11136       (-500, 0]\n",
      "11137        (0, 500]\n",
      "11138        (0, 500]\n",
      "11139    (2000, 4000]\n",
      "11140    (2000, 4000]\n",
      "11141        (0, 500]\n",
      "11142        (0, 500]\n",
      "11143        (0, 500]\n",
      "11144       (-500, 0]\n",
      "11145       (-500, 0]\n",
      "11146        (0, 500]\n",
      "11147       (-500, 0]\n",
      "11148        (0, 500]\n",
      "11149    (2000, 4000]\n",
      "11150        (0, 500]\n",
      "11151     (500, 1000]\n",
      "11152        (0, 500]\n",
      "11153        (0, 500]\n",
      "11154     (500, 1000]\n",
      "11155        (0, 500]\n",
      "11156       (-500, 0]\n",
      "11157        (0, 500]\n",
      "11158     (500, 1000]\n",
      "11159        (0, 500]\n",
      "11160       (-500, 0]\n",
      "11161       (-500, 0]\n",
      "Name: balance, Length: 11162, dtype: category\n",
      "Categories (8, interval[int64]): [(-7000, -500] < (-500, 0] < (0, 500] < (500, 1000] < (1000, 2000] < (2000, 4000] < (4000, 8000] < (8000, 90000]]\n",
      "   age         job  marital  education default  balance housing loan  contact  \\\n",
      "0   59      admin.  married  secondary      no     2343     yes   no  unknown   \n",
      "1   56      admin.  married  secondary      no       45      no   no  unknown   \n",
      "2   41  technician  married  secondary      no     1270     yes   no  unknown   \n",
      "3   55    services  married  secondary      no     2476     yes   no  unknown   \n",
      "4   54      admin.  married   tertiary      no      184      no   no  unknown   \n",
      "\n",
      "   day month  duration  campaign  pdays  previous poutcome deposit   cut_age  \\\n",
      "0    5   may      1042         1     -1         0  unknown     yes  (50, 60]   \n",
      "1    5   may      1467         1     -1         0  unknown     yes  (50, 60]   \n",
      "2    5   may      1389         1     -1         0  unknown     yes  (40, 50]   \n",
      "3    5   may       579         1     -1         0  unknown     yes  (50, 60]   \n",
      "4    5   may       673         2     -1         0  unknown     yes  (50, 60]   \n",
      "\n",
      "    cut_balance  \n",
      "0  (2000, 4000]  \n",
      "1      (0, 500]  \n",
      "2  (1000, 2000]  \n",
      "3  (2000, 4000]  \n",
      "4      (0, 500]  \n",
      "                 投资   不投资\n",
      "(-7000, -500]    38    85\n",
      "(-500, 0]       464   875\n",
      "(0, 500]       1680  2207\n",
      "(500, 1000]     859   913\n",
      "(1000, 2000]    839   760\n",
      "(2000, 4000]    791   573\n",
      "(4000, 8000]    423   315\n",
      "(8000, 90000]   195   145\n",
      "<class 'pandas.core.frame.DataFrame'>\n"
     ]
    },
    {
     "data": {
      "image/png": "[encoded data removed]",
      "text/plain": [
       "<Figure size 432x288 with 1 Axes>"
      ]
     },
     "metadata": {
      "needs_background": "light"
     },
     "output_type": "display_data"
    }
   ],
   "source": [
    "# 分析balance对投资的影响\n",
    "# 将balance列分段处理\n",
    "bins = [-7000,-500, 0, 500, 1000, 2000, 4000, 8000, 90000]\n",
    "cut_balance = pd.cut(df['balance'], bins)\n",
    "print(cut_balance)\n",
    "# 给数据增添cut_balance这一列\n",
    "df['cut_balance'] = cut_balance\n",
    "print(df.head())\n",
    "# 获得以客户是否投资定期存款为依据的年度存款余额（欧元）情况的人数数据\n",
    "balance_dep_y = df.cut_balance[df.deposit == 'yes'].value_counts()\n",
    "balance_dep_n = df.cut_balance[df.deposit == 'no'].value_counts()\n",
    "balance_dep = pd.DataFrame({'投资': balance_dep_y, '不投资': balance_dep_n})\n",
    "print(balance_dep)\n",
    "print(type(balance_dep))\n",
    "# 绘制根据是否投资的年度存款余额（欧元）情况的柱状图（条形图）\n",
    "bar = balance_dep.plot(kind='bar', rot=30)"
   ]
  },
  {
   "cell_type": "code",
   "execution_count": 13,
   "metadata": {},
   "outputs": [
    {
     "name": "stdout",
     "output_type": "stream",
     "text": [
      "0        (1000, 4000]\n",
      "1        (1000, 4000]\n",
      "2        (1000, 4000]\n",
      "3         (500, 1000]\n",
      "4         (500, 1000]\n",
      "5         (500, 1000]\n",
      "6        (1000, 4000]\n",
      "7        (1000, 4000]\n",
      "8         (500, 1000]\n",
      "9        (1000, 4000]\n",
      "10        (500, 1000]\n",
      "11       (1000, 4000]\n",
      "12       (1000, 4000]\n",
      "13       (1000, 4000]\n",
      "14        (500, 1000]\n",
      "15       (1000, 4000]\n",
      "16        (500, 1000]\n",
      "17       (1000, 4000]\n",
      "18       (1000, 4000]\n",
      "19        (500, 1000]\n",
      "20         (200, 500]\n",
      "21        (500, 1000]\n",
      "22       (1000, 4000]\n",
      "23       (1000, 4000]\n",
      "24        (500, 1000]\n",
      "25        (500, 1000]\n",
      "26         (200, 500]\n",
      "27        (500, 1000]\n",
      "28        (500, 1000]\n",
      "29        (500, 1000]\n",
      "             ...     \n",
      "11132      (100, 200]\n",
      "11133      (100, 200]\n",
      "11134        (0, 100]\n",
      "11135      (200, 500]\n",
      "11136        (0, 100]\n",
      "11137      (200, 500]\n",
      "11138     (500, 1000]\n",
      "11139     (500, 1000]\n",
      "11140        (0, 100]\n",
      "11141      (200, 500]\n",
      "11142     (500, 1000]\n",
      "11143      (100, 200]\n",
      "11144      (200, 500]\n",
      "11145      (200, 500]\n",
      "11146      (100, 200]\n",
      "11147      (100, 200]\n",
      "11148      (100, 200]\n",
      "11149      (200, 500]\n",
      "11150      (200, 500]\n",
      "11151      (200, 500]\n",
      "11152     (500, 1000]\n",
      "11153      (200, 500]\n",
      "11154      (100, 200]\n",
      "11155        (0, 100]\n",
      "11156      (200, 500]\n",
      "11157      (200, 500]\n",
      "11158        (0, 100]\n",
      "11159      (100, 200]\n",
      "11160        (0, 100]\n",
      "11161     (500, 1000]\n",
      "Name: duration, Length: 11162, dtype: category\n",
      "Categories (5, interval[int64]): [(0, 100] < (100, 200] < (200, 500] < (500, 1000] < (1000, 4000]]\n",
      "   age         job  marital  education default  balance housing loan  contact  \\\n",
      "0   59      admin.  married  secondary      no     2343     yes   no  unknown   \n",
      "1   56      admin.  married  secondary      no       45      no   no  unknown   \n",
      "2   41  technician  married  secondary      no     1270     yes   no  unknown   \n",
      "3   55    services  married  secondary      no     2476     yes   no  unknown   \n",
      "4   54      admin.  married   tertiary      no      184      no   no  unknown   \n",
      "\n",
      "   day month  duration  campaign  pdays  previous poutcome deposit   cut_age  \\\n",
      "0    5   may      1042         1     -1         0  unknown     yes  (50, 60]   \n",
      "1    5   may      1467         1     -1         0  unknown     yes  (50, 60]   \n",
      "2    5   may      1389         1     -1         0  unknown     yes  (40, 50]   \n",
      "3    5   may       579         1     -1         0  unknown     yes  (50, 60]   \n",
      "4    5   may       673         2     -1         0  unknown     yes  (50, 60]   \n",
      "\n",
      "    cut_balance  cut_duration  \n",
      "0  (2000, 4000]  (1000, 4000]  \n",
      "1      (0, 500]  (1000, 4000]  \n",
      "2  (1000, 2000]  (1000, 4000]  \n",
      "3  (2000, 4000]   (500, 1000]  \n",
      "4      (0, 500]   (500, 1000]  \n",
      "                投资   不投资\n",
      "(0, 100]       117  1620\n",
      "(100, 200]     770  1887\n",
      "(200, 500]    2125  1877\n",
      "(500, 1000]   1645   418\n",
      "(1000, 4000]   632    71\n",
      "<class 'pandas.core.frame.DataFrame'>\n"
     ]
    },
    {
     "data": {
      "image/png": "[encoded data removed]",
      "text/plain": [
       "<Figure size 432x288 with 1 Axes>"
      ]
     },
     "metadata": {
      "needs_background": "light"
     },
     "output_type": "display_data"
    }
   ],
   "source": [
    "# 分析duration对投资的影响\n",
    "# 将duration列分段处理\n",
    "bins = [0,100, 200, 500, 1000, 4000]\n",
    "cut_duration = pd.cut(df['duration'], bins)\n",
    "print(cut_duration)\n",
    "# 给数据增添cut_duration这一列\n",
    "df['cut_duration'] = cut_duration\n",
    "print(df.head())\n",
    "# 获得以客户是否投资定期存款为依据的年度存款余额（欧元）情况的人数数据\n",
    "duration_dep_y = df.cut_duration[df.deposit == 'yes'].value_counts()\n",
    "duration_dep_n = df.cut_duration[df.deposit == 'no'].value_counts()\n",
    "duration_dep = pd.DataFrame({'投资': duration_dep_y, '不投资': duration_dep_n})\n",
    "print(duration_dep)\n",
    "print(type(duration_dep))\n",
    "# 绘制根据是否投资的年度存款余额（欧元）情况的柱状图（条形图）\n",
    "bar = duration_dep.plot(kind='bar', rot=30)"
   ]
  },
  {
   "cell_type": "code",
   "execution_count": 14,
   "metadata": {},
   "outputs": [
    {
     "name": "stdout",
     "output_type": "stream",
     "text": [
      "   age         job  marital  education default  balance housing loan  \\\n",
      "0   59      admin.  married  secondary      no     2343     yes   no   \n",
      "1   56      admin.  married  secondary      no       45      no   no   \n",
      "2   41  technician  married  secondary      no     1270     yes   no   \n",
      "3   55    services  married  secondary      no     2476     yes   no   \n",
      "4   54      admin.  married   tertiary      no      184      no   no   \n",
      "\n",
      "   duration  campaign  pdays  previous deposit  \n",
      "0      1042         1     -1         0     yes  \n",
      "1      1467         1     -1         0     yes  \n",
      "2      1389         1     -1         0     yes  \n",
      "3       579         1     -1         0     yes  \n",
      "4       673         2     -1         0     yes  \n"
     ]
    }
   ],
   "source": [
    "# 删除contact、month、day、cut_age、poutcome三列\n",
    "df = df.drop(['contact', 'month', 'day', 'cut_age', 'cut_balance','cut_duration','poutcome'], axis=1)\n",
    "print(df.head())"
   ]
  },
  {
   "cell_type": "code",
   "execution_count": 15,
   "metadata": {
    "scrolled": true
   },
   "outputs": [
    {
     "name": "stdout",
     "output_type": "stream",
     "text": [
      "<class 'pandas.core.frame.DataFrame'>\n",
      "<class 'pandas.core.frame.DataFrame'>\n",
      "Int64Index: 11092 entries, 0 to 11161\n",
      "Data columns (total 13 columns):\n",
      "age          11092 non-null int64\n",
      "job          11092 non-null object\n",
      "marital      11092 non-null object\n",
      "education    11092 non-null object\n",
      "default      11092 non-null object\n",
      "balance      11092 non-null int64\n",
      "housing      11092 non-null object\n",
      "loan         11092 non-null object\n",
      "duration     11092 non-null int64\n",
      "campaign     11092 non-null int64\n",
      "pdays        11092 non-null int64\n",
      "previous     11092 non-null int64\n",
      "deposit      11092 non-null object\n",
      "dtypes: int64(6), object(7)\n",
      "memory usage: 1.2+ MB\n",
      "None\n",
      "management       2566\n",
      "blue-collar      1944\n",
      "technician       1823\n",
      "admin.           1334\n",
      "services          923\n",
      "retired           778\n",
      "self-employed     405\n",
      "student           360\n",
      "unemployed        357\n",
      "entrepreneur      328\n",
      "housemaid         274\n",
      "Name: job, dtype: int64\n"
     ]
    }
   ],
   "source": [
    "# 删除不清楚job的样本\n",
    "df = df[~df['job'].isin(['unknown'])]\n",
    "print(type(df))\n",
    "print(df.info())\n",
    "print(df.job.value_counts())"
   ]
  },
  {
   "cell_type": "code",
   "execution_count": 16,
   "metadata": {},
   "outputs": [
    {
     "name": "stdout",
     "output_type": "stream",
     "text": [
      "<class 'pandas.core.frame.DataFrame'>\n",
      "Int64Index: 10634 entries, 0 to 11161\n",
      "Data columns (total 13 columns):\n",
      "age          10634 non-null int64\n",
      "job          10634 non-null object\n",
      "marital      10634 non-null object\n",
      "education    10634 non-null object\n",
      "default      10634 non-null object\n",
      "balance      10634 non-null int64\n",
      "housing      10634 non-null object\n",
      "loan         10634 non-null object\n",
      "duration     10634 non-null int64\n",
      "campaign     10634 non-null int64\n",
      "pdays        10634 non-null int64\n",
      "previous     10634 non-null int64\n",
      "deposit      10634 non-null object\n",
      "dtypes: int64(6), object(7)\n",
      "memory usage: 1.1+ MB\n",
      "None\n",
      "secondary    5461\n",
      "tertiary     3680\n",
      "primary      1493\n",
      "Name: education, dtype: int64\n"
     ]
    }
   ],
   "source": [
    "# 删除不清楚education的样本\n",
    "df = df[~df['education'].isin(['unknown'])]\n",
    "print(df.info())\n",
    "print(df.education.value_counts())"
   ]
  },
  {
   "cell_type": "code",
   "execution_count": 17,
   "metadata": {},
   "outputs": [
    {
     "name": "stdout",
     "output_type": "stream",
     "text": [
      "<class 'pandas.core.frame.DataFrame'>\n",
      "Int64Index: 2695 entries, 890 to 11160\n",
      "Data columns (total 13 columns):\n",
      "age          2695 non-null int64\n",
      "job          2695 non-null object\n",
      "marital      2695 non-null object\n",
      "education    2695 non-null object\n",
      "default      2695 non-null object\n",
      "balance      2695 non-null int64\n",
      "housing      2695 non-null object\n",
      "loan         2695 non-null object\n",
      "duration     2695 non-null int64\n",
      "campaign     2695 non-null int64\n",
      "pdays        2695 non-null int64\n",
      "previous     2695 non-null int64\n",
      "deposit      2695 non-null object\n",
      "dtypes: int64(6), object(7)\n",
      "memory usage: 294.8+ KB\n",
      "None\n"
     ]
    }
   ],
   "source": [
    "# 获取训练集数据，即pdays不为-1的样本\n",
    "df = df[~df['pdays'].isin([-1])]\n",
    "print(df.info())"
   ]
  },
  {
   "cell_type": "code",
   "execution_count": 18,
   "metadata": {},
   "outputs": [
    {
     "name": "stdout",
     "output_type": "stream",
     "text": [
      "     age         job  marital  education default  balance housing loan  \\\n",
      "890   42      admin.   single  secondary      no     -247     yes  yes   \n",
      "891   33    services  married  secondary      no     3444     yes   no   \n",
      "899   56  technician  married  secondary      no      589     yes   no   \n",
      "933   34      admin.  married   tertiary      no      899     yes   no   \n",
      "951   53     retired  married   tertiary      no     2269      no   no   \n",
      "\n",
      "     duration  campaign  pdays  previous deposit  \n",
      "890       519         1    166         1       1  \n",
      "891       144         1     91         4       1  \n",
      "899       518         1    147         2       1  \n",
      "933       114         1    170         3       1  \n",
      "951      1091         2    150         1       1  \n"
     ]
    },
    {
     "name": "stderr",
     "output_type": "stream",
     "text": [
      "C:\\Users\\46124\\Anaconda3\\lib\\site-packages\\ipykernel_launcher.py:3: SettingWithCopyWarning: \n",
      "A value is trying to be set on a copy of a slice from a DataFrame\n",
      "\n",
      "See the caveats in the documentation: http://pandas.pydata.org/pandas-docs/stable/indexing.html#indexing-view-versus-copy\n",
      "  This is separate from the ipykernel package so we can avoid doing imports until\n"
     ]
    }
   ],
   "source": [
    "# 将deposit列中的yes用1代替，no用0代替，并对该列进行保存用于后面训练的输出值\n",
    "df.deposit[df['deposit'] == 'yes'] = 1\n",
    "df.deposit[df['deposit'] == 'no'] = 0\n",
    "df_dep = df['deposit']\n",
    "print(df.head())\n",
    "# print(df_dep)"
   ]
  },
  {
   "cell_type": "code",
   "execution_count": 19,
   "metadata": {},
   "outputs": [
    {
     "name": "stdout",
     "output_type": "stream",
     "text": [
      "     age         job  marital  education default  balance housing loan  \\\n",
      "890   42      admin.   single  secondary      no     -247     yes  yes   \n",
      "891   33    services  married  secondary      no     3444     yes   no   \n",
      "899   56  technician  married  secondary      no      589     yes   no   \n",
      "933   34      admin.  married   tertiary      no      899     yes   no   \n",
      "951   53     retired  married   tertiary      no     2269      no   no   \n",
      "\n",
      "     duration  campaign  previous  \n",
      "890       519         1         1  \n",
      "891       144         1         4  \n",
      "899       518         1         2  \n",
      "933       114         1         3  \n",
      "951      1091         2         1  \n"
     ]
    }
   ],
   "source": [
    "# 删除pdays、deposit列\n",
    "df = df.drop(['pdays', 'deposit'], axis=1)\n",
    "print(df.head())"
   ]
  },
  {
   "cell_type": "code",
   "execution_count": 20,
   "metadata": {},
   "outputs": [],
   "source": [
    "# 对age、balance、duration、campaign进行标准差标准化处理\n",
    "a = df.age\n",
    "df['age_scaled'] = (a - a.mean()) / (a.std())\n",
    "df = df.drop('age', axis=1)\n",
    "\n",
    "b = df.balance\n",
    "df['balance_scaled'] = (b - b.mean()) / (b.std())\n",
    "df = df.drop('balance', axis=1)\n",
    "\n",
    "d = df.duration\n",
    "df['duration_scaled'] = (d - d.mean()) / (d.std())\n",
    "df = df.drop('duration', axis=1)\n",
    "\n",
    "c = df.campaign\n",
    "df['campaign_scaled'] = (c - c.mean()) / (c.std())\n",
    "df = df.drop('campaign', axis=1)\n",
    "\n",
    "p = df.previous\n",
    "df['previous_scaled'] = (p - p.mean()) / (p.std())"
   ]
  },
  {
   "cell_type": "code",
   "execution_count": 21,
   "metadata": {},
   "outputs": [
    {
     "name": "stdout",
     "output_type": "stream",
     "text": [
      "     previous  age_scaled  balance_scaled  duration_scaled  campaign_scaled  \\\n",
      "890         1    0.039857       -0.541785         0.608405        -0.678219   \n",
      "891         4   -0.665785        0.442230        -0.718910        -0.678219   \n",
      "899         2    1.137523       -0.318909         0.604865        -0.678219   \n",
      "933         3   -0.587381       -0.236263        -0.825095        -0.678219   \n",
      "951         1    0.902308        0.128977         2.633002         0.081465   \n",
      "\n",
      "     previous_scaled  job_admin.  job_blue-collar  job_entrepreneur  \\\n",
      "890        -0.638589           1                0                 0   \n",
      "891         0.192275           0                0                 0   \n",
      "899        -0.361634           0                0                 0   \n",
      "933        -0.084679           1                0                 0   \n",
      "951        -0.638589           0                0                 0   \n",
      "\n",
      "     job_housemaid  ...  marital_single  education_primary  \\\n",
      "890              0  ...               1                  0   \n",
      "891              0  ...               0                  0   \n",
      "899              0  ...               0                  0   \n",
      "933              0  ...               0                  0   \n",
      "951              0  ...               0                  0   \n",
      "\n",
      "     education_secondary  education_tertiary  default_no  default_yes  \\\n",
      "890                    1                   0           1            0   \n",
      "891                    1                   0           1            0   \n",
      "899                    1                   0           1            0   \n",
      "933                    0                   1           1            0   \n",
      "951                    0                   1           1            0   \n",
      "\n",
      "     housing_no  housing_yes  loan_no  loan_yes  \n",
      "890           0            1        0         1  \n",
      "891           0            1        1         0  \n",
      "899           0            1        1         0  \n",
      "933           0            1        1         0  \n",
      "951           1            0        1         0  \n",
      "\n",
      "[5 rows x 29 columns]\n"
     ]
    }
   ],
   "source": [
    "# 将字符串形式的特征值转换为数值型，即对字符串特征进行哑变量操作\n",
    "df = pd.get_dummies(df)\n",
    "print(df.head())"
   ]
  },
  {
   "cell_type": "code",
   "execution_count": 22,
   "metadata": {},
   "outputs": [
    {
     "name": "stdout",
     "output_type": "stream",
     "text": [
      "(2695,)\n",
      "<class 'numpy.ndarray'>\n",
      "[1 1 1 ... 0 0 0]\n"
     ]
    }
   ],
   "source": [
    "# 从df_dep中得到输出值y\n",
    "y = df_dep.values.astype('int')\n",
    "print(y.shape)\n",
    "print(type(y))\n",
    "print(y)"
   ]
  },
  {
   "cell_type": "code",
   "execution_count": 23,
   "metadata": {},
   "outputs": [
    {
     "name": "stdout",
     "output_type": "stream",
     "text": [
      "(2695, 29)\n"
     ]
    }
   ],
   "source": [
    "# 从df中得到输入值x\n",
    "x = df.values\n",
    "print(x.shape)"
   ]
  },
  {
   "cell_type": "code",
   "execution_count": 24,
   "metadata": {},
   "outputs": [
    {
     "name": "stdout",
     "output_type": "stream",
     "text": [
      "{'max_depth': 9, 'n_estimators': 350}\n",
      "{'max_depth': 7, 'n_estimators': 150} -> 0.7781076066790352\n",
      "{'max_depth': 7, 'n_estimators': 200} -> 0.7781076066790352\n",
      "{'max_depth': 7, 'n_estimators': 250} -> 0.7766233766233767\n",
      "{'max_depth': 7, 'n_estimators': 300} -> 0.7773654916512059\n",
      "{'max_depth': 7, 'n_estimators': 350} -> 0.7792207792207793\n",
      "{'max_depth': 7, 'n_estimators': 400} -> 0.7784786641929499\n",
      "{'max_depth': 8, 'n_estimators': 150} -> 0.7755102040816326\n",
      "{'max_depth': 8, 'n_estimators': 200} -> 0.7781076066790352\n",
      "{'max_depth': 8, 'n_estimators': 250} -> 0.7788497217068646\n",
      "{'max_depth': 8, 'n_estimators': 300} -> 0.7807050092764378\n",
      "{'max_depth': 8, 'n_estimators': 350} -> 0.7788497217068646\n",
      "{'max_depth': 8, 'n_estimators': 400} -> 0.7784786641929499\n",
      "{'max_depth': 9, 'n_estimators': 150} -> 0.7788497217068646\n",
      "{'max_depth': 9, 'n_estimators': 200} -> 0.7792207792207793\n",
      "{'max_depth': 9, 'n_estimators': 250} -> 0.7807050092764378\n",
      "{'max_depth': 9, 'n_estimators': 300} -> 0.7810760667903525\n",
      "{'max_depth': 9, 'n_estimators': 350} -> 0.7833024118738404\n",
      "{'max_depth': 9, 'n_estimators': 400} -> 0.7818181818181819\n",
      "{'max_depth': 10, 'n_estimators': 150} -> 0.7799628942486085\n",
      "{'max_depth': 10, 'n_estimators': 200} -> 0.7792207792207793\n",
      "{'max_depth': 10, 'n_estimators': 250} -> 0.7810760667903525\n",
      "{'max_depth': 10, 'n_estimators': 300} -> 0.7795918367346939\n",
      "{'max_depth': 10, 'n_estimators': 350} -> 0.7821892393320965\n",
      "{'max_depth': 10, 'n_estimators': 400} -> 0.7810760667903525\n",
      "{'max_depth': 11, 'n_estimators': 150} -> 0.7773654916512059\n",
      "{'max_depth': 11, 'n_estimators': 200} -> 0.7814471243042672\n",
      "{'max_depth': 11, 'n_estimators': 250} -> 0.7803339517625232\n",
      "{'max_depth': 11, 'n_estimators': 300} -> 0.7803339517625232\n",
      "{'max_depth': 11, 'n_estimators': 350} -> 0.7807050092764378\n",
      "{'max_depth': 11, 'n_estimators': 400} -> 0.7814471243042672\n",
      "{'max_depth': 12, 'n_estimators': 150} -> 0.775139146567718\n",
      "{'max_depth': 12, 'n_estimators': 200} -> 0.7740259740259741\n",
      "{'max_depth': 12, 'n_estimators': 250} -> 0.7784786641929499\n",
      "{'max_depth': 12, 'n_estimators': 300} -> 0.7795918367346939\n",
      "{'max_depth': 12, 'n_estimators': 350} -> 0.7803339517625232\n",
      "{'max_depth': 12, 'n_estimators': 400} -> 0.7788497217068646\n",
      "{'max_depth': 13, 'n_estimators': 150} -> 0.776252319109462\n",
      "{'max_depth': 13, 'n_estimators': 200} -> 0.7736549165120594\n",
      "{'max_depth': 13, 'n_estimators': 250} -> 0.7758812615955473\n",
      "{'max_depth': 13, 'n_estimators': 300} -> 0.7766233766233767\n",
      "{'max_depth': 13, 'n_estimators': 350} -> 0.7769944341372913\n",
      "{'max_depth': 13, 'n_estimators': 400} -> 0.776252319109462\n",
      "{'max_depth': 14, 'n_estimators': 150} -> 0.7714285714285715\n",
      "{'max_depth': 14, 'n_estimators': 200} -> 0.7736549165120594\n",
      "{'max_depth': 14, 'n_estimators': 250} -> 0.7725417439703154\n",
      "{'max_depth': 14, 'n_estimators': 300} -> 0.7758812615955473\n",
      "{'max_depth': 14, 'n_estimators': 350} -> 0.776252319109462\n",
      "{'max_depth': 14, 'n_estimators': 400} -> 0.7743970315398887\n",
      "RandomForestClassifier(bootstrap=True, class_weight=None, criterion='gini',\n",
      "            max_depth=9, max_features='auto', max_leaf_nodes=None,\n",
      "            min_impurity_decrease=0.0, min_impurity_split=None,\n",
      "            min_samples_leaf=1, min_samples_split=2,\n",
      "            min_weight_fraction_leaf=0.0, n_estimators=350, n_jobs=None,\n",
      "            oob_score=False, random_state=7, verbose=0, warm_start=False)\n"
     ]
    }
   ],
   "source": [
    "# 通过网格搜索确定最优的超参数组合\n",
    "params = [\n",
    "    {'max_depth': [7,8,9,10,11,12,13,14], 'n_estimators': [150,200,250,300,350,400]}\n",
    "  ]\n",
    "\n",
    "# 创建随机森林分类器，利用网格搜索确定最优超参数\n",
    "model = ms.GridSearchCV(se.RandomForestClassifier(random_state=7),params,cv=5)\n",
    "\n",
    "# 训练模型\n",
    "model.fit(x, y)\n",
    "# 最优参数组合\n",
    "print(model.best_params_)\n",
    "for param, score in zip(\n",
    "        model.cv_results_['params'],\n",
    "        model.cv_results_['mean_test_score']):\n",
    "    print(param, '->', score)\n",
    "#最优模型\n",
    "print(model.best_estimator_)"
   ]
  },
  {
   "cell_type": "code",
   "execution_count": 25,
   "metadata": {},
   "outputs": [
    {
     "name": "stdout",
     "output_type": "stream",
     "text": [
      "0.8652443587142691\n"
     ]
    }
   ],
   "source": [
    "# 创建随机森林分类器\n",
    "model = se.RandomForestClassifier(\n",
    "    max_depth=9, n_estimators=350, random_state=7)\n",
    "\n",
    "# 训练模型\n",
    "model.fit(x, y)\n",
    "# 模型训练集得分\n",
    "pred_y = model.predict(x)\n",
    "print(sm.f1_score(y, pred_y, average='weighted'))"
   ]
  },
  {
   "cell_type": "code",
   "execution_count": 26,
   "metadata": {},
   "outputs": [
    {
     "data": {
      "text/plain": [
       "array([0.03673615, 0.06759727, 0.08892249, 0.41122421, 0.03892688,\n",
       "       0.03622606, 0.00636182, 0.01759194, 0.00467551, 0.003081  ,\n",
       "       0.00701885, 0.00562413, 0.00433891, 0.00459609, 0.0039746 ,\n",
       "       0.00810227, 0.00378586, 0.00618985, 0.00979571, 0.00888276,\n",
       "       0.00732027, 0.00905406, 0.01421141, 0.00167664, 0.00158868,\n",
       "       0.07807389, 0.07851124, 0.0170709 , 0.01884058])"
      ]
     },
     "execution_count": 26,
     "metadata": {},
     "output_type": "execute_result"
    }
   ],
   "source": [
    "# 从模型中获取特征重要性，只有决策树类型的模型才能获取特征重要性\n",
    "fi = model.feature_importances_\n",
    "fi"
   ]
  },
  {
   "cell_type": "code",
   "execution_count": 27,
   "metadata": {},
   "outputs": [
    {
     "name": "stdout",
     "output_type": "stream",
     "text": [
      "['previous' 'age_scaled' 'balance_scaled' 'duration_scaled'\n",
      " 'campaign_scaled' 'previous_scaled' 'job_admin.' 'job_blue-collar'\n",
      " 'job_entrepreneur' 'job_housemaid' 'job_management' 'job_retired'\n",
      " 'job_self-employed' 'job_services' 'job_student' 'job_technician'\n",
      " 'job_unemployed' 'marital_divorced' 'marital_married' 'marital_single'\n",
      " 'education_primary' 'education_secondary' 'education_tertiary'\n",
      " 'default_no' 'default_yes' 'housing_no' 'housing_yes' 'loan_no'\n",
      " 'loan_yes']\n",
      "<class 'numpy.ndarray'>\n"
     ]
    }
   ],
   "source": [
    "# 获取DataFrame数据的所有特征名\n",
    "fn = df.columns.values.tolist()\n",
    "fn = np.array(fn)\n",
    "print(fn)\n",
    "print(type(fn))"
   ]
  },
  {
   "cell_type": "code",
   "execution_count": 28,
   "metadata": {},
   "outputs": [
    {
     "data": {
      "image/png": "[encoded data removed]",
      "text/plain": [
       "<Figure size 432x288 with 1 Axes>"
      ]
     },
     "metadata": {},
     "output_type": "display_data"
    }
   ],
   "source": [
    "# 可视化不同特征的重要性排序\n",
    "mp.figure('Feature Importance', facecolor='lightgray')\n",
    "mp.title('Feature Importance', fontsize=20)\n",
    "mp.xlabel('Feature', fontsize=14)\n",
    "mp.ylabel('Importance', fontsize=14)\n",
    "mp.tick_params(labelsize=10)\n",
    "mp.grid(axis='y', linestyle=':')\n",
    "sorted_indices = fi.argsort()[::-1]\n",
    "pos = np.arange(sorted_indices.size)\n",
    "mp.bar(pos, fi[sorted_indices], facecolor='deepskyblue',\n",
    "       edgecolor='steelblue')\n",
    "mp.xticks(pos, fn[sorted_indices], rotation=90)\n",
    "mp.tight_layout()\n",
    "mp.show()"
   ]
  }
 ],
 "metadata": {
  "kernelspec": {
   "display_name": "Python 3",
   "language": "python",
   "name": "python3"
  },
  "language_info": {
   "codemirror_mode": {
    "name": "ipython",
    "version": 3
   },
   "file_extension": ".py",
   "mimetype": "text/x-python",
   "name": "python",
   "nbconvert_exporter": "python",
   "pygments_lexer": "ipython3",
   "version": "3.7.3"
  }
 },
 "nbformat": 4,
 "nbformat_minor": 2
}
